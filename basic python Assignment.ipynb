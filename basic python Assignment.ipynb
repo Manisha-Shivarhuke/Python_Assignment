{
 "cells": [
  {
   "cell_type": "markdown",
   "id": "ca3f6987",
   "metadata": {},
   "source": [
    "# Varable and data type"
   ]
  },
  {
   "cell_type": "markdown",
   "id": "909b5942",
   "metadata": {},
   "source": [
    "##### 1. Create two variables, a and b, and swap their values without using a temporaryvariable"
   ]
  },
  {
   "cell_type": "code",
   "execution_count": 1,
   "id": "941e611b",
   "metadata": {},
   "outputs": [
    {
     "name": "stdout",
     "output_type": "stream",
     "text": [
      "a: 6\n",
      "b: 5\n"
     ]
    }
   ],
   "source": [
    "\n",
    "a=5\n",
    "b=6\n",
    "a,b=b,a\n",
    "print(\"a:\",a)\n",
    "print(\"b:\",b)"
   ]
  },
  {
   "cell_type": "markdown",
   "id": "4a999756",
   "metadata": {},
   "source": [
    "##### 2. Ask the user for an integer and convert it to a string. Then, print the data type of theconverted variable.\n"
   ]
  },
  {
   "cell_type": "code",
   "execution_count": 5,
   "id": "057940a2",
   "metadata": {},
   "outputs": [
    {
     "name": "stdout",
     "output_type": "stream",
     "text": [
      "enter the number: 7\n",
      "<class 'str'>\n"
     ]
    }
   ],
   "source": [
    "\n",
    "x=int(input(\"enter the number: \"))\n",
    "#print(x)\n",
    "y=str(x)\n",
    "print(type(y))\n"
   ]
  },
  {
   "cell_type": "markdown",
   "id": "bada1ffe",
   "metadata": {},
   "source": [
    "##### 3. Make a list of numbers and add a new number to the end of the list. Then, removethe first element and print the modified list."
   ]
  },
  {
   "cell_type": "code",
   "execution_count": 6,
   "id": "6040e507",
   "metadata": {},
   "outputs": [
    {
     "name": "stdout",
     "output_type": "stream",
     "text": [
      "[11, 12, 13, 14, 15, 16, 17]\n",
      "[12, 13, 14, 15, 16, 17]\n"
     ]
    }
   ],
   "source": [
    "\n",
    "l=[11,12,13,14,15,16]\n",
    "l.append(17)\n",
    "print(l)\n",
    "l.remove(11)\n",
    "print(l)"
   ]
  },
  {
   "cell_type": "markdown",
   "id": "2e8f84d4",
   "metadata": {},
   "source": [
    "##### 4. Assume a program that asks the user for their name and age. Then, use stringformatting to display a message like \"Hello, [Name]! You are [Age] years old.\n"
   ]
  },
  {
   "cell_type": "code",
   "execution_count": 10,
   "id": "86b15669",
   "metadata": {},
   "outputs": [
    {
     "name": "stdout",
     "output_type": "stream",
     "text": [
      "Enter your name: nisha\n",
      "Enter your age: 20\n",
      "hello,nisha! you are 20 years old\n"
     ]
    }
   ],
   "source": [
    "\n",
    "name=input(\"Enter your name: \")\n",
    "age=int(input(\"Enter your age: \"))\n",
    "message=f\"hello,{name}! you are {age} years old\"\n",
    "print(message)"
   ]
  },
  {
   "cell_type": "markdown",
   "id": "83cd867b",
   "metadata": {},
   "source": [
    "##### 5. Create variables for two numbers and perform addition, subtraction, multiplication,and division operations. Print the results\n"
   ]
  },
  {
   "cell_type": "code",
   "execution_count": 13,
   "id": "b909688d",
   "metadata": {},
   "outputs": [
    {
     "name": "stdout",
     "output_type": "stream",
     "text": [
      "Addition of numbers:  23\n",
      "subtraction of numbers : 1\n",
      "multiplication of numbers:  132\n",
      "division of numbers:  1.0909090909090908\n"
     ]
    }
   ],
   "source": [
    "\n",
    "a=12\n",
    "b=11\n",
    "add=a+b\n",
    "print(\"Addition of numbers: \",addition)\n",
    "sub=a-b\n",
    "print(\"subtraction of numbers :\",sub)\n",
    "multi=a*b\n",
    "print(\"multiplication of numbers: \",multi)\n",
    "div=a/b\n",
    "print(\"division of numbers: \",div)\n"
   ]
  },
  {
   "cell_type": "markdown",
   "id": "ce9fd963",
   "metadata": {},
   "source": [
    "##### 6. Define a constant variable in Python and try to modify its value. Explain whether it'spossible or not"
   ]
  },
  {
   "cell_type": "code",
   "execution_count": 1,
   "id": "48c9c7d0",
   "metadata": {},
   "outputs": [
    {
     "name": "stdout",
     "output_type": "stream",
     "text": [
      "120\n",
      "130\n"
     ]
    }
   ],
   "source": [
    "\n",
    "var=120\n",
    "print(var)\n",
    "var=130\n",
    "print(var)"
   ]
  },
  {
   "cell_type": "markdown",
   "id": "73c19c60",
   "metadata": {},
   "source": [
    "##### 7. Write a program that checks the data type of a variable and prints a message based on whether it's an integer, float, string, or another type.\n",
    "\n"
   ]
  },
  {
   "cell_type": "code",
   "execution_count": 3,
   "id": "97ec1a3f",
   "metadata": {},
   "outputs": [
    {
     "name": "stdout",
     "output_type": "stream",
     "text": [
      "type of  100 is  <class 'int'>\n",
      "type of 3.4 is  <class 'float'>\n",
      "type of python is  <class 'str'>\n"
     ]
    }
   ],
   "source": [
    "num1 = 100\n",
    "print(f\"type of  {num1} is \",type(num1))\n",
    "num2 = 3.40\n",
    "print(f\"type of {num2} is \",type(num2))\n",
    "num3 = \"python\"\n",
    "print(f\"type of {num3} is \",type(num3))"
   ]
  },
  {
   "cell_type": "markdown",
   "id": "2549f9cb",
   "metadata": {},
   "source": [
    "##### 8. Generate a list of squares of numbers from 1 to 10 using list comprehension.\n"
   ]
  },
  {
   "cell_type": "code",
   "execution_count": 14,
   "id": "a5e2e942",
   "metadata": {},
   "outputs": [
    {
     "name": "stdout",
     "output_type": "stream",
     "text": [
      "[1, 4, 9, 16, 25, 36, 49, 64, 81, 100]\n"
     ]
    }
   ],
   "source": [
    "\n",
    "sqr=[a**2 for a in range(1,11)]\n",
    "print(sqr)"
   ]
  },
  {
   "cell_type": "markdown",
   "id": "8399e802",
   "metadata": {},
   "source": [
    "##### 9. Create a program that attempts to convert a string to an integer. Handle any potentialerrors and print an error message."
   ]
  },
  {
   "cell_type": "code",
   "execution_count": 19,
   "id": "bdf92314",
   "metadata": {},
   "outputs": [
    {
     "name": "stdout",
     "output_type": "stream",
     "text": [
      "enter the string value: nisha\n",
      "Error, enter a string value \n"
     ]
    }
   ],
   "source": [
    "\n",
    "\n",
    "x=input(\"enter the string value: \")\n",
    "try:\n",
    "    y=int(x)\n",
    "    print(\"string converted to integer: \",y)\n",
    "except:\n",
    "    print(\"Error, enter a string value \")"
   ]
  },
  {
   "cell_type": "markdown",
   "id": "c5e58b26",
   "metadata": {},
   "source": [
    "##### 10. Write a program with variables that follow both the snake_case and CamelCasenaming conventions. Print a message explaining the conventions.\n"
   ]
  },
  {
   "cell_type": "code",
   "execution_count": 20,
   "id": "7c155a82",
   "metadata": {},
   "outputs": [
    {
     "name": "stdout",
     "output_type": "stream",
     "text": [
      "python snake_case uses lowercase letters with underscore between words\n",
      "python CamelCase uses capitalizes each word of each word\n"
     ]
    }
   ],
   "source": [
    "\n",
    "snake_case=\"python\"\n",
    "CamelCase=\"python\"\n",
    "\n",
    "print(snake_case,\"snake_case uses lowercase letters with underscore between words\")\n",
    "print(CamelCase,\"CamelCase uses capitalizes each word of each word\")"
   ]
  },
  {
   "cell_type": "markdown",
   "id": "577f93eb",
   "metadata": {},
   "source": [
    "# Input Methods"
   ]
  },
  {
   "cell_type": "markdown",
   "id": "483d77f2",
   "metadata": {},
   "source": [
    "##### 1. Write a program that prints the user to enter their name, age, and city. Then, print out a message that includes this information.\n"
   ]
  },
  {
   "cell_type": "code",
   "execution_count": 21,
   "id": "f1a6a640",
   "metadata": {},
   "outputs": [
    {
     "name": "stdout",
     "output_type": "stream",
     "text": [
      "Enter your name: nisha\n",
      "Enter your age: 34\n",
      "Enter your city: nagpur\n",
      "nisha\n",
      "34\n",
      "nagpur\n"
     ]
    }
   ],
   "source": [
    "\n",
    "\n",
    "name=input(\"Enter your name: \")\n",
    "age=int(input(\"Enter your age: \"))\n",
    "city=input(\"Enter your city: \")\n",
    "print(name)\n",
    "print(age)\n",
    "print(city)\n"
   ]
  },
  {
   "cell_type": "markdown",
   "id": "7482af28",
   "metadata": {},
   "source": [
    "##### 2. Create a simple calculator program that takes two numbers and an operation (+, -, *,/) as input from the user and displays the result"
   ]
  },
  {
   "cell_type": "code",
   "execution_count": 24,
   "id": "8bee8708",
   "metadata": {},
   "outputs": [
    {
     "name": "stdout",
     "output_type": "stream",
     "text": [
      "Enter the first nimber: 3\n",
      "Enter the second number: 5\n",
      "Enter the operation symbol: /\n",
      "0.6\n"
     ]
    }
   ],
   "source": [
    "\n",
    "\n",
    "num1=int(input(\"Enter the first nimber: \"))\n",
    "num2=int(input(\"Enter the second number: \"))\n",
    "op=input(\"Enter the operation symbol: \")\n",
    "if op==\"+\":\n",
    "    print(num1+num2)\n",
    "elif op==\"-\":\n",
    "    print(num1-num2)\n",
    "elif op==\"*\":\n",
    "    print(num1*num2)\n",
    "elif op==\"/\":\n",
    "    print(num1/num2)\n"
   ]
  },
  {
   "cell_type": "markdown",
   "id": "87d4cdfb",
   "metadata": {},
   "source": [
    "##### 3. Define a program that asks the user to enter a number and determines whether it'seven or odd."
   ]
  },
  {
   "cell_type": "code",
   "execution_count": 26,
   "id": "785608e3",
   "metadata": {},
   "outputs": [
    {
     "name": "stdout",
     "output_type": "stream",
     "text": [
      "Enter the number: 5\n",
      "the number is odd\n"
     ]
    }
   ],
   "source": [
    "\n",
    "\n",
    "num=int(input(\"Enter the number: \"))\n",
    "if num %2==0:\n",
    "    print(\"the number is even\")\n",
    "else:\n",
    "    print(\"the number is odd\")"
   ]
  },
  {
   "cell_type": "markdown",
   "id": "4c84a4c0",
   "metadata": {},
   "source": [
    "##### 4. Make a program that allows the user to convert between Celsius and Fahrenheittemperatures. Ask the user for the temperature value and the scale they are using.\n"
   ]
  },
  {
   "cell_type": "code",
   "execution_count": 1,
   "id": "d3833594",
   "metadata": {},
   "outputs": [
    {
     "name": "stdout",
     "output_type": "stream",
     "text": [
      "Enter temperature in celsius: 23\n",
      "23.00 celsius is: 73.40 fahrenheit\n"
     ]
    }
   ],
   "source": [
    "celsius=float(input(\"Enter temperature in celsius: \"))\n",
    "fahrenheit=(celsius*9/5)+32\n",
    "print(\"%.2f celsius is: %0.2f fahrenheit\" %(celsius,fahrenheit))"
   ]
  },
  {
   "cell_type": "markdown",
   "id": "03e43bf8",
   "metadata": {},
   "source": [
    "##### 5. Write a program that prompts the user to create a password. Check if the password meets certain criteria (e.g., minimum length, containing both letters and numbers).\n",
    "\n"
   ]
  },
  {
   "cell_type": "code",
   "execution_count": 6,
   "id": "8477c8d1",
   "metadata": {},
   "outputs": [
    {
     "name": "stdout",
     "output_type": "stream",
     "text": [
      "enter your password ##tyuio9\n",
      "password is created \n"
     ]
    }
   ],
   "source": [
    "password= input(\"enter your password \")\n",
    "if len(password)==8 and any(char.isdigit() for char in password) and any(char.isalpha() for char in password):\n",
    "    print(\"password is created \")\n",
    "else:\n",
    "    print(\"password not meet the criteria\")\n"
   ]
  },
  {
   "cell_type": "markdown",
   "id": "59ffc2f0",
   "metadata": {},
   "source": [
    "##### 6. Implement a number guessing game where the computer generates a randomnumber, and the user has to guess it. Provide feedback on whether the guess is too high or too low.\n",
    "\n",
    "\n"
   ]
  },
  {
   "cell_type": "code",
   "execution_count": 12,
   "id": "37dfcccb",
   "metadata": {},
   "outputs": [
    {
     "name": "stdout",
     "output_type": "stream",
     "text": [
      "guess a number between 1 to 50:4\n",
      "too low\n",
      "guess a number between 1 to 50:44\n",
      "too high\n",
      "guess a number between 1 to 50:40\n",
      "too high\n",
      "guess a number between 1 to 50:38\n",
      "too high\n",
      "guess a number between 1 to 50:31\n",
      "too high\n",
      "guess a number between 1 to 50:20\n",
      "too high\n",
      "guess a number between 1 to 50:18\n",
      "too high\n",
      "guess a number between 1 to 50:12\n",
      "too high\n",
      "guess a number between 1 to 50:10\n",
      "too high\n",
      "guess a number between 1 to 50:9\n",
      "too high\n",
      "guess a number between 1 to 50:7\n",
      "correct! you guessed the number\n"
     ]
    }
   ],
   "source": [
    "import random\n",
    "def guessing_game():            \n",
    "    num=random.randint(1,50)        #define range of numbers that can be genrated\n",
    "    guess=None\n",
    "    while guess != num:\n",
    "        guess=int(input(\"guess a number between 1 to 50:\"))\n",
    "        if guess<num:\n",
    "            print(\"too low\")\n",
    "        elif guess>num:\n",
    "            print(\"too high\")\n",
    "    print(\"correct! you guessed the number\")\n",
    "guessing_game()"
   ]
  },
  {
   "cell_type": "markdown",
   "id": "f6a79d32",
   "metadata": {},
   "source": [
    "#### 7. Assume a program that asks the user for their height and weight, then calculates anddisplays their Body Mass Index."
   ]
  },
  {
   "cell_type": "code",
   "execution_count": 31,
   "id": "74c1be76",
   "metadata": {},
   "outputs": [
    {
     "name": "stdout",
     "output_type": "stream",
     "text": [
      "Enter your height: 5\n",
      "Enter your weight: 40\n",
      "your body mass index is:  1.6\n"
     ]
    }
   ],
   "source": [
    "\n",
    "height=float(input(\"Enter your height: \"))\n",
    "weight=float(input(\"Enter your weight: \"))\n",
    "bmi=weight/(height**2)\n",
    "print(\"your body mass index is: \",bmi)"
   ]
  },
  {
   "cell_type": "markdown",
   "id": "437c8a44",
   "metadata": {},
   "source": [
    "#### 8. Ask the user to enter a positive integer and calculate its factorial (e.g., 5! = 5 x 4 x 3 x2 x 1 = 120).\n",
    "\n"
   ]
  },
  {
   "cell_type": "code",
   "execution_count": 17,
   "id": "9b31df31",
   "metadata": {},
   "outputs": [
    {
     "name": "stdout",
     "output_type": "stream",
     "text": [
      "Enter the number: 5\n",
      "factorial of number:  120\n"
     ]
    }
   ],
   "source": [
    "num=int(input(\"Enter the number: \"))\n",
    "factorial=1\n",
    "if num>=1:\n",
    "    for i in range(1,num+1):\n",
    "        factorial=factorial*i\n",
    "    print(\"factorial of number: \" ,factorial)"
   ]
  },
  {
   "cell_type": "markdown",
   "id": "cb98c6b5",
   "metadata": {},
   "source": [
    "#### 9. Prompt the user to input a string and then display the reverse of that string."
   ]
  },
  {
   "cell_type": "code",
   "execution_count": 5,
   "id": "2f718c73",
   "metadata": {},
   "outputs": [
    {
     "name": "stdout",
     "output_type": "stream",
     "text": [
      "Enter the string : manisha\n"
     ]
    },
    {
     "data": {
      "text/plain": [
       "'ahsinam'"
      ]
     },
     "execution_count": 5,
     "metadata": {},
     "output_type": "execute_result"
    }
   ],
   "source": [
    "\n",
    "a=input(\"Enter the string : \")\n",
    "a[::-1]\n"
   ]
  },
  {
   "cell_type": "markdown",
   "id": "5a291dfd",
   "metadata": {},
   "source": [
    "##### 10. Find a program that asks the user for a number and generates the first \"n\" numbersin the Fibonacci sequence."
   ]
  },
  {
   "cell_type": "code",
   "execution_count": 1,
   "id": "042c2a7b",
   "metadata": {},
   "outputs": [
    {
     "name": "stdout",
     "output_type": "stream",
     "text": [
      "Enter the number: 3\n",
      "0 1 1 "
     ]
    }
   ],
   "source": [
    "\n",
    "num=int(input(\"Enter the number: \"))\n",
    "a=0\n",
    "b=1\n",
    "for i in range(0,num):\n",
    "    print(a,end=\" \")\n",
    "    c=a+b\n",
    "    a=b\n",
    "    b=c\n"
   ]
  },
  {
   "cell_type": "markdown",
   "id": "f894050c",
   "metadata": {},
   "source": [
    "# Output Methods"
   ]
  },
  {
   "cell_type": "markdown",
   "id": "c920edd0",
   "metadata": {},
   "source": [
    "##### 1. Python program that prints \"Hello, World!\" to the console.\n"
   ]
  },
  {
   "cell_type": "code",
   "execution_count": 12,
   "id": "a43da869",
   "metadata": {},
   "outputs": [
    {
     "name": "stdout",
     "output_type": "stream",
     "text": [
      "Hello,World!\n"
     ]
    }
   ],
   "source": [
    "\n",
    "print(\"Hello,World!\")"
   ]
  },
  {
   "cell_type": "markdown",
   "id": "73d6d3c6",
   "metadata": {},
   "source": [
    "##### 2. Create a program that takes a number as input and prints its multiplication table from1 to 10."
   ]
  },
  {
   "cell_type": "code",
   "execution_count": 13,
   "id": "ff9afb39",
   "metadata": {},
   "outputs": [
    {
     "name": "stdout",
     "output_type": "stream",
     "text": [
      "Enter the number: 2\n",
      "2 x 1 = 2\n",
      "2 x 2 = 4\n",
      "2 x 3 = 6\n",
      "2 x 4 = 8\n",
      "2 x 5 = 10\n",
      "2 x 6 = 12\n",
      "2 x 7 = 14\n",
      "2 x 8 = 16\n",
      "2 x 9 = 18\n",
      "2 x 10 = 20\n"
     ]
    }
   ],
   "source": [
    "\n",
    "num=int(input(\"Enter the number: \"))\n",
    "for i in range(1,11):\n",
    "    print(num,\"x\",i,\"=\",num*i)\n"
   ]
  },
  {
   "cell_type": "markdown",
   "id": "e3efd602",
   "metadata": {},
   "source": [
    "##### 3. Write a program that counts down from a specified number to 1 and then prints\"Blast-off!\""
   ]
  },
  {
   "cell_type": "code",
   "execution_count": 19,
   "id": "3b2e8cdf",
   "metadata": {},
   "outputs": [
    {
     "name": "stdout",
     "output_type": "stream",
     "text": [
      "Enter the number: 5\n",
      "blast-off!\n"
     ]
    }
   ],
   "source": [
    "\n",
    "num=int(input(\"Enter the number: \"))\n",
    "for i in range(num,0,-1):\n",
    "    print(i)\n",
    "print(\"blast-off!\")"
   ]
  },
  {
   "cell_type": "markdown",
   "id": "72706d7a",
   "metadata": {},
   "source": [
    "##### 4. Generate a program that prints a pyramid of stars, where the user provides thenumber of rows for the pyramid.\n"
   ]
  },
  {
   "cell_type": "code",
   "execution_count": 24,
   "id": "cc2b56a2",
   "metadata": {},
   "outputs": [
    {
     "name": "stdout",
     "output_type": "stream",
     "text": [
      "Enter the number: 5\n",
      "          * \n",
      "        * * * \n",
      "      * * * * * \n",
      "    * * * * * * * \n",
      "  * * * * * * * * * \n"
     ]
    }
   ],
   "source": [
    "\n",
    "num=int(input(\"Enter the number: \"))\n",
    "for i in range(num):\n",
    "    for j in range(i,num):\n",
    "        print(\" \",end=\" \")\n",
    "    for j in range(i):\n",
    "        print(\"*\",end=\" \")\n",
    "    for j in range(i+1):    \n",
    "        print(\"*\",end=\" \")\n",
    "    print()    \n"
   ]
  },
  {
   "cell_type": "markdown",
   "id": "bc3975bd",
   "metadata": {},
   "source": [
    "##### 5. Ask the user for a number \"n\" and print a pattern of numbers from 1 to n in thefollowing way:\n"
   ]
  },
  {
   "cell_type": "markdown",
   "id": "66d59880",
   "metadata": {},
   "source": [
    "1\n",
    "12\n",
    "123\n",
    "1234"
   ]
  },
  {
   "cell_type": "code",
   "execution_count": 25,
   "id": "0699989d",
   "metadata": {},
   "outputs": [
    {
     "name": "stdout",
     "output_type": "stream",
     "text": [
      "Enter the number: 4\n",
      "1 \n",
      "1 2 \n",
      "1 2 3 \n",
      "1 2 3 4 \n"
     ]
    }
   ],
   "source": [
    "\n",
    "num=int(input(\"Enter the number: \"))\n",
    "for i in range(num):\n",
    "    p=1\n",
    "    for j in range(i+1):\n",
    "        print(p,end=\" \")\n",
    "        p+=1\n",
    "    print()"
   ]
  },
  {
   "cell_type": "markdown",
   "id": "edc92036",
   "metadata": {},
   "source": [
    "##### 6. Make a program that calculates and prints the sum of all numbers from 1 to auser-specified number"
   ]
  },
  {
   "cell_type": "code",
   "execution_count": 27,
   "id": "ae1ca9e9",
   "metadata": {},
   "outputs": [
    {
     "name": "stdout",
     "output_type": "stream",
     "text": [
      "Enter the number: 3\n",
      "6\n"
     ]
    }
   ],
   "source": [
    "\n",
    "num=int(input(\"Enter the number: \"))\n",
    "sum_num=sum(range(1,num+1))\n",
    "print(sum_num)"
   ]
  },
  {
   "cell_type": "markdown",
   "id": "37e8c467",
   "metadata": {},
   "source": [
    "##### 7. Ask the user to enter a character (e.g., '*') and a number. Print a square of thatcharacter with the given number of rows and columns"
   ]
  },
  {
   "cell_type": "code",
   "execution_count": 23,
   "id": "c10c6ecd",
   "metadata": {},
   "outputs": [
    {
     "name": "stdout",
     "output_type": "stream",
     "text": [
      "Enter the character you want: #\n",
      "Enter the number: 7\n",
      "#######\n",
      "#######\n",
      "#######\n",
      "#######\n",
      "#######\n",
      "#######\n",
      "#######\n"
     ]
    }
   ],
   "source": [
    "\n",
    "char=input(\"Enter the character you want: \")\n",
    "num=int(input(\"Enter the number: \"))\n",
    "for i in range(num):\n",
    "    print(char*num)"
   ]
  },
  {
   "cell_type": "markdown",
   "id": "8cfcbd83",
   "metadata": {},
   "source": [
    "##### 8. Write a program that asks the user to enter a positive integer and then prints thefactorial of that number\n"
   ]
  },
  {
   "cell_type": "code",
   "execution_count": 29,
   "id": "b63ee53a",
   "metadata": {},
   "outputs": [
    {
     "name": "stdout",
     "output_type": "stream",
     "text": [
      "Enter the number: 10\n",
      "1\n",
      "2\n",
      "6\n",
      "24\n",
      "120\n",
      "720\n",
      "5040\n",
      "40320\n",
      "362880\n",
      "3628800\n"
     ]
    }
   ],
   "source": [
    "\n",
    "num=int(input(\"Enter the number: \"))\n",
    "fact=1\n",
    "if num<0:\n",
    "    print(\"does not accept negative number\")\n",
    "elif num==0:\n",
    "    print(\"factorial of 0 is 1\")\n",
    "else:\n",
    "    for i in range(1,num+1):\n",
    "        fact=fact*i\n",
    "        print(fact)\n",
    "    "
   ]
  },
  {
   "cell_type": "markdown",
   "id": "b04c6cfb",
   "metadata": {},
   "source": [
    "##### 9. BMI calculator program (as in a previous question) and print the user's BMI category(e.g., underweight, normal, overweight, obese).\n",
    "\n"
   ]
  },
  {
   "cell_type": "code",
   "execution_count": null,
   "id": "d7793c44",
   "metadata": {},
   "outputs": [],
   "source": []
  },
  {
   "cell_type": "markdown",
   "id": "e45183f4",
   "metadata": {},
   "source": [
    "##### 10. Ask the user to input the principal amount, rate of interest, and time in years.Calculate and print the simple interest."
   ]
  },
  {
   "cell_type": "code",
   "execution_count": 7,
   "id": "6d0ee54e",
   "metadata": {},
   "outputs": [
    {
     "name": "stdout",
     "output_type": "stream",
     "text": [
      "Enter the amount: 3000\n",
      "Enter the number of year: 2\n",
      "Enter the rate: 2.7\n",
      "The simple interest is: 162.00000000000003\n"
     ]
    }
   ],
   "source": [
    "\n",
    "A =int(input(\"Enter the amount: \"))\n",
    "Y = int(input(\"Enter the number of year: \"))\n",
    "R = float(input(\"Enter the rate: \"))\n",
    "SI = (A*Y*R)/100\n",
    "print(\"The simple interest is:\", SI)\n",
    "\n",
    "\n",
    "\n"
   ]
  },
  {
   "cell_type": "markdown",
   "id": "d803709f",
   "metadata": {},
   "source": [
    "# String"
   ]
  },
  {
   "cell_type": "markdown",
   "id": "fc36b3a3",
   "metadata": {},
   "source": [
    "##### 1. Write a Python program that takes a string as input and returns the reverse of thatstring.\n"
   ]
  },
  {
   "cell_type": "code",
   "execution_count": 9,
   "id": "51695b7c",
   "metadata": {},
   "outputs": [
    {
     "name": "stdout",
     "output_type": "stream",
     "text": [
      "Enter the string : string\n"
     ]
    },
    {
     "data": {
      "text/plain": [
       "'gnirts'"
      ]
     },
     "execution_count": 9,
     "metadata": {},
     "output_type": "execute_result"
    }
   ],
   "source": [
    "\n",
    "a=input(\"Enter the string : \")\n",
    "a[::-1]\n",
    "\n",
    "\n"
   ]
  },
  {
   "cell_type": "markdown",
   "id": "d8cc4630",
   "metadata": {},
   "source": [
    "##### 2. Make a function that checks if a given string is a palindrome (reads the sameforwards and backwards)."
   ]
  },
  {
   "cell_type": "code",
   "execution_count": 13,
   "id": "415c0a72",
   "metadata": {},
   "outputs": [
    {
     "name": "stdout",
     "output_type": "stream",
     "text": [
      "Enter the string : nayan\n",
      "the string is palindrom\n"
     ]
    }
   ],
   "source": [
    "\n",
    "a=input(\"Enter the string : \")\n",
    "b=a[::-1]\n",
    "if a==b:\n",
    "    print(\"the string is palindrom\")\n",
    "else:\n",
    "    print(\"the string is not palindrom\")"
   ]
  },
  {
   "cell_type": "markdown",
   "id": "875c1780",
   "metadata": {},
   "source": [
    "##### 3. Write a function to count the number of vowels (a, e, i, o, u) in a given string."
   ]
  },
  {
   "cell_type": "code",
   "execution_count": 2,
   "id": "3bacade7",
   "metadata": {},
   "outputs": [
    {
     "name": "stdout",
     "output_type": "stream",
     "text": [
      "enter the string: programming\n",
      "The number of vowels in the string are: \n",
      "3\n"
     ]
    }
   ],
   "source": [
    "a = input(\"enter the string: \")\n",
    "vowels=0\n",
    "for i in a:\n",
    "    if(i==\"a\"or i==\"e\"or i==\"i\"or i==\"o\" or i==\"u\"):\n",
    "        vowels=vowels+1\n",
    "print(\"The number of vowels in the string are: \")\n",
    "print(vowels)"
   ]
  },
  {
   "cell_type": "markdown",
   "id": "a3364b08",
   "metadata": {},
   "source": [
    "##### 4. Given two strings, write a program to concatenate them without using the + operator."
   ]
  },
  {
   "cell_type": "code",
   "execution_count": 17,
   "id": "d24302f2",
   "metadata": {},
   "outputs": [
    {
     "name": "stdout",
     "output_type": "stream",
     "text": [
      "Hello world\n"
     ]
    }
   ],
   "source": [
    "\n",
    "a=\"Hello\"\n",
    "b=\"world\"\n",
    "c=\" \".join([a,b])\n",
    "print(c)"
   ]
  },
  {
   "cell_type": "markdown",
   "id": "8d770469",
   "metadata": {},
   "source": [
    "##### 5. Given a string, write a program to extract a substring between a specified start andend index\n"
   ]
  },
  {
   "cell_type": "code",
   "execution_count": 5,
   "id": "98419bba",
   "metadata": {},
   "outputs": [
    {
     "name": "stdout",
     "output_type": "stream",
     "text": [
      "python programming\n",
      "substring:  program\n"
     ]
    }
   ],
   "source": [
    "\n",
    "string=\"python programming\"\n",
    "string1=string[7:14]\n",
    "print(string)\n",
    "print(\"substring: \",string1)\n"
   ]
  },
  {
   "cell_type": "markdown",
   "id": "caee7a8f",
   "metadata": {},
   "source": [
    "##### 6. Make a function that checks if two given strings are anagrams (contain the samecharacters in a different order).\n"
   ]
  },
  {
   "cell_type": "code",
   "execution_count": 9,
   "id": "61964eba",
   "metadata": {},
   "outputs": [
    {
     "name": "stdout",
     "output_type": "stream",
     "text": [
      "Enter the string: dad\n",
      "Enter the string: add\n",
      "True\n"
     ]
    }
   ],
   "source": [
    "\n",
    "string1=input(\"Enter the string: \")\n",
    "string2=input(\"Enter the string: \")\n",
    "a=sorted(string1)==sorted(string2)\n",
    "print(a)\n"
   ]
  },
  {
   "cell_type": "markdown",
   "id": "361a5854",
   "metadata": {},
   "source": [
    "##### 7. Find a function that calculates the frequency of each character in a string and returnsthe results as a dictionary."
   ]
  },
  {
   "cell_type": "code",
   "execution_count": 4,
   "id": "8d77985d",
   "metadata": {},
   "outputs": [
    {
     "name": "stdout",
     "output_type": "stream",
     "text": [
      "{'G': 1, 'o': 2, 'g': 1, 'l': 1, 'e': 1}\n"
     ]
    }
   ],
   "source": [
    "string = \"Google\"\n",
    "dict={}\n",
    "for i in string:\n",
    "    if i in dict:\n",
    "        dict[i]+=1\n",
    "    else:\n",
    "        dict[i]=1\n",
    "print(dict)"
   ]
  },
  {
   "cell_type": "markdown",
   "id": "aa058f72",
   "metadata": {},
   "source": [
    "##### 8. Write a program to remove duplicate characters from a string and return the stringwithout duplicates"
   ]
  },
  {
   "cell_type": "code",
   "execution_count": 10,
   "id": "1d72bfa8",
   "metadata": {},
   "outputs": [
    {
     "name": "stdout",
     "output_type": "stream",
     "text": [
      " progamin\n"
     ]
    }
   ],
   "source": [
    "\n",
    "string=\"programming\"\n",
    "p=\" \"\n",
    "for i in string:\n",
    "    if i not in p:\n",
    "        p=p+i\n",
    "print(p)"
   ]
  },
  {
   "cell_type": "markdown",
   "id": "f896df05",
   "metadata": {},
   "source": [
    "##### 9. Given two strings, write a function that checks if one is a rotation of the other. Forexample, waterbottle is a rotation of erbottlewat.\n",
    "\n"
   ]
  },
  {
   "cell_type": "markdown",
   "id": "21f748ff",
   "metadata": {},
   "source": []
  },
  {
   "cell_type": "markdown",
   "id": "d92fb9d7",
   "metadata": {},
   "source": [
    "##### 10. Assume a function to convert a given string into a title case, where the first letter ofeach word is capitalized.\n"
   ]
  },
  {
   "cell_type": "code",
   "execution_count": 11,
   "id": "22224524",
   "metadata": {},
   "outputs": [
    {
     "data": {
      "text/plain": [
       "'Basic Python Assignment'"
      ]
     },
     "execution_count": 11,
     "metadata": {},
     "output_type": "execute_result"
    }
   ],
   "source": [
    "\n",
    "string=\"basic python assignment\"\n",
    "string.title()\n"
   ]
  },
  {
   "cell_type": "markdown",
   "id": "b9c93ba6",
   "metadata": {},
   "source": [
    "# List"
   ]
  },
  {
   "cell_type": "markdown",
   "id": "03a0e624",
   "metadata": {},
   "source": [
    "##### 1. Create a list of your favorite fruits. Add a new fruit to the list, remove one fruit, andprint the modified list\n"
   ]
  },
  {
   "cell_type": "code",
   "execution_count": 16,
   "id": "724baf1d",
   "metadata": {},
   "outputs": [
    {
     "name": "stdout",
     "output_type": "stream",
     "text": [
      "['orange', 'mango', 'strawberry', 'apple']\n",
      "['orange', 'strawberry', 'apple', 'banana']\n"
     ]
    }
   ],
   "source": [
    "\n",
    "fav_fruits=[\"orange\",\"mango\",\"strawberry\",\"apple\"]\n",
    "print(fav_fruits)\n",
    "fav_fruits.append(\"banana\")\n",
    "\n",
    "b=fav_fruits.remove(\"mango\")\n",
    "print(fav_fruits)"
   ]
  },
  {
   "cell_type": "markdown",
   "id": "4a90cb00",
   "metadata": {},
   "source": [
    "##### 2. Write a program that calculates the sum of all the numbers in a given list of integers.\n"
   ]
  },
  {
   "cell_type": "code",
   "execution_count": 18,
   "id": "ea8e786d",
   "metadata": {},
   "outputs": [
    {
     "name": "stdout",
     "output_type": "stream",
     "text": [
      "[2, 3, 4, 5, 6, 7, 8, 9]\n",
      "44\n"
     ]
    }
   ],
   "source": [
    "\n",
    "num=[2,3,4,5,6,7,8,9]\n",
    "print(num)\n",
    "sum_num=sum(num)\n",
    "print(sum_num)"
   ]
  },
  {
   "cell_type": "markdown",
   "id": "99526b76",
   "metadata": {},
   "source": [
    "##### 3. Generate a list of the squares of the numbers from 1 to 10 using list comprehension.\n"
   ]
  },
  {
   "cell_type": "code",
   "execution_count": 20,
   "id": "327ac7c7",
   "metadata": {},
   "outputs": [
    {
     "name": "stdout",
     "output_type": "stream",
     "text": [
      "[1, 4, 9, 16, 25, 36, 49, 64, 81, 100]\n"
     ]
    }
   ],
   "source": [
    "\n",
    "sqr_list=[i**2 for i in range(1,11)]\n",
    "print(sqr_list)"
   ]
  },
  {
   "cell_type": "markdown",
   "id": "30aa3aa7",
   "metadata": {},
   "source": [
    "##### 4. Make a list of numbers and use list comprehension to create a new list with only theeven numbers.\n"
   ]
  },
  {
   "cell_type": "code",
   "execution_count": 21,
   "id": "a2f53f6a",
   "metadata": {},
   "outputs": [
    {
     "name": "stdout",
     "output_type": "stream",
     "text": [
      "[2, 4, 6, 8, 10]\n"
     ]
    }
   ],
   "source": [
    "\n",
    "list1=[1,2,3,4,5,6,7,8,9,10]\n",
    "x=[i for i in list1 if i%2==0]\n",
    "print(x)\n"
   ]
  },
  {
   "cell_type": "markdown",
   "id": "cd99d2e7",
   "metadata": {},
   "source": [
    "##### 5. Write a program that reverses a given list without using the reverse() method or slicing."
   ]
  },
  {
   "cell_type": "code",
   "execution_count": 23,
   "id": "0a8999fa",
   "metadata": {},
   "outputs": [
    {
     "name": "stdout",
     "output_type": "stream",
     "text": [
      "[1, 2, 3, 4, 5, 6, 7, 8, 9, 10]\n"
     ]
    },
    {
     "data": {
      "text/plain": [
       "[10, 9, 8, 7, 6, 5, 4, 3, 2, 1]"
      ]
     },
     "execution_count": 23,
     "metadata": {},
     "output_type": "execute_result"
    }
   ],
   "source": [
    "\n",
    "list1=[1,2,3,4,5,6,7,8,9,10]\n",
    "print(list1)\n",
    "list1[::-1]"
   ]
  },
  {
   "cell_type": "markdown",
   "id": "3df19bcc",
   "metadata": {},
   "source": [
    "##### 6.Make a list of words (strings) and sort them in alphabetical order. Print both theoriginal and sorted lists.\n"
   ]
  },
  {
   "cell_type": "code",
   "execution_count": 27,
   "id": "40f94bcc",
   "metadata": {},
   "outputs": [
    {
     "name": "stdout",
     "output_type": "stream",
     "text": [
      "['flower', 'fruits', 'animals', 'fish']\n",
      "['animals', 'fish', 'flower', 'fruits']\n"
     ]
    }
   ],
   "source": [
    "\n",
    "x=[\"flower\",\"fruits\",\"animals\",\"fish\"]\n",
    "print(x)\n",
    "x.sort()\n",
    "print(x)\n"
   ]
  },
  {
   "cell_type": "markdown",
   "id": "393c4f39",
   "metadata": {},
   "source": [
    "##### 7. Combine two lists into a single list without using the + operator. Print the merged list.\n"
   ]
  },
  {
   "cell_type": "code",
   "execution_count": 28,
   "id": "7cb07f16",
   "metadata": {},
   "outputs": [
    {
     "name": "stdout",
     "output_type": "stream",
     "text": [
      "[1, 2, 3, 4, 5, 6, 11, 12, 13, 14, 15, 16]\n"
     ]
    }
   ],
   "source": [
    "\n",
    "a=[1,2,3,4,5,6]\n",
    "b=[11,12,13,14,15,16]\n",
    "a.extend(b)\n",
    "print(a)"
   ]
  },
  {
   "cell_type": "markdown",
   "id": "7b27da85",
   "metadata": {},
   "source": [
    "##### 8. Given a list and a specific element, write a program to remove all occurrences of thatelement from the list.\n"
   ]
  },
  {
   "cell_type": "code",
   "execution_count": 30,
   "id": "7a85c170",
   "metadata": {},
   "outputs": [
    {
     "name": "stdout",
     "output_type": "stream",
     "text": [
      "[1, 2, 3, 3, 4, 5, 2, 3, 6, 3, 7, 3]\n",
      "[1, 2, 4, 5, 2, 6, 7]\n"
     ]
    }
   ],
   "source": [
    "\n",
    "list1=[1,2,3,3,4,5,2,3,6,3,7,3]\n",
    "print(list1)\n",
    "element=3\n",
    "list2=[i for i in list1 if i!=element]\n",
    "print(list2)"
   ]
  },
  {
   "cell_type": "markdown",
   "id": "6822bdbc",
   "metadata": {},
   "source": [
    "##### 9. Create two lists of numbers and find the common elements between them. Print theresult.\n"
   ]
  },
  {
   "cell_type": "code",
   "execution_count": 32,
   "id": "374d1a92",
   "metadata": {},
   "outputs": [
    {
     "name": "stdout",
     "output_type": "stream",
     "text": [
      "[1, 1, 2, 3, 4, 5, 6, 7, 8, 3, 2]\n",
      "[2, 1, 3, 4, 5, 6, 2, 2, 3]\n",
      "[1, 2, 3, 4, 5, 6]\n"
     ]
    }
   ],
   "source": [
    "\n",
    "num1=[1,1,2,3,4,5,6,7,8,3,2,]\n",
    "\n",
    "num2=[2,1,3,4,5,6,2,2,3]\n",
    "\n",
    "x=list(set(num1)& set(num2))\n",
    "print(x)"
   ]
  },
  {
   "cell_type": "markdown",
   "id": "14aa14ac",
   "metadata": {},
   "source": [
    "##### 10. Take a list of words and print the first three and last three words without changingthe original list."
   ]
  },
  {
   "cell_type": "code",
   "execution_count": 37,
   "id": "e5cfbd28",
   "metadata": {},
   "outputs": [
    {
     "name": "stdout",
     "output_type": "stream",
     "text": [
      "['orange', 'mango', 'strawberry', 'apple']\n",
      "first three ['orange', 'mango', 'strawberry']\n",
      "last three ['mango', 'strawberry', 'apple']\n"
     ]
    }
   ],
   "source": [
    "\n",
    "words=[\"orange\",\"mango\",\"strawberry\",\"apple\"]\n",
    "print(words)\n",
    "print(\"first three\",words[:3])\n",
    "print(\"last three\",words[-3:])\n",
    "\n"
   ]
  },
  {
   "cell_type": "markdown",
   "id": "c8d97056",
   "metadata": {},
   "source": [
    "# Tuple"
   ]
  },
  {
   "cell_type": "markdown",
   "id": "06b94d46",
   "metadata": {},
   "source": [
    "##### 1. Create a tuple containing the names of your favorite colors."
   ]
  },
  {
   "cell_type": "code",
   "execution_count": 38,
   "id": "3642117e",
   "metadata": {},
   "outputs": [
    {
     "name": "stdout",
     "output_type": "stream",
     "text": [
      "('blue', 'yellow', 'green', 'black', 'purple')\n"
     ]
    }
   ],
   "source": [
    "\n",
    "colors=(\"blue\",\"yellow\",\"green\",\"black\",\"purple\")\n",
    "print(colors)"
   ]
  },
  {
   "cell_type": "markdown",
   "id": "ed49d7b8",
   "metadata": {},
   "source": [
    "##### 2. Define a tuple with the days of the week. Write a program that asks the user for anumber (1 to 7) and prints the corresponding day of the week"
   ]
  },
  {
   "cell_type": "code",
   "execution_count": 40,
   "id": "d0dc8775",
   "metadata": {},
   "outputs": [
    {
     "name": "stdout",
     "output_type": "stream",
     "text": [
      "Enter a number 1 to 7: 9\n",
      "plese enter number 1 to 7.\n"
     ]
    }
   ],
   "source": [
    "\n",
    "day=int(input(\"Enter a number 1 to 7: \"))\n",
    "if day==1:\n",
    "    print(\"is Monday\")\n",
    "elif day==2:\n",
    "    print(\"is Tuesday\")\n",
    "elif day==3:\n",
    "    print(\"is Wednesday\")\n",
    "elif day==4:\n",
    "    print(\"is Thursday\")\n",
    "elif day==5:\n",
    "    print(\"is friday\")\n",
    "elif day==6:\n",
    "    print(\"is saturday\")\n",
    "elif day==7:\n",
    "    print(\"is sunday\")\n",
    "else:\n",
    "    print(\"plese enter number 1 to 7.\")"
   ]
  },
  {
   "cell_type": "markdown",
   "id": "fbbb3b7a",
   "metadata": {},
   "source": [
    "##### 3. Make a tuple with the coordinates (x, y). Write a program that unpacks the tuple andprints the values of x and y separately.\n"
   ]
  },
  {
   "cell_type": "code",
   "execution_count": 21,
   "id": "da75e12c",
   "metadata": {},
   "outputs": [
    {
     "name": "stdout",
     "output_type": "stream",
     "text": [
      "natasha\n",
      "priya\n"
     ]
    }
   ],
   "source": [
    "\n",
    "names=(\"natasha\",\"priya\")\n",
    "x,y=names\n",
    "print(x)\n",
    "print(y)"
   ]
  },
  {
   "cell_type": "markdown",
   "id": "9c9c5c2a",
   "metadata": {},
   "source": [
    "##### 4. Introduce two tuples and concatenate them to form a new tuple. Print the resultingtuple.\n"
   ]
  },
  {
   "cell_type": "code",
   "execution_count": 1,
   "id": "d16a5191",
   "metadata": {},
   "outputs": [
    {
     "name": "stdout",
     "output_type": "stream",
     "text": [
      "(1, 2, 3, 4, 5, 5, 6, 7, 8, 9, 10)\n"
     ]
    }
   ],
   "source": [
    "\n",
    "num1=(1,2,3,4,5,5)\n",
    "num2=(6,7,8,9,10)\n",
    "f=num1+num2\n",
    "print(f)"
   ]
  },
  {
   "cell_type": "markdown",
   "id": "cf080d93",
   "metadata": {},
   "source": [
    "##### 5. Make a tuple of numbers. Use slicing to extract a sub-tuple containing the middlethree numbers."
   ]
  },
  {
   "cell_type": "code",
   "execution_count": 15,
   "id": "56916dd3",
   "metadata": {},
   "outputs": [
    {
     "name": "stdout",
     "output_type": "stream",
     "text": [
      "(1, 2, 3, 4, 5, 5, 6, 7, 8)\n",
      "(4, 5, 5)\n"
     ]
    }
   ],
   "source": [
    "\n",
    "num1=(1,2,3,4,5,5,6,7,8)\n",
    "a=num1[3:6]\n",
    "print(num1)\n",
    "print(a)"
   ]
  },
  {
   "cell_type": "markdown",
   "id": "37a0e901",
   "metadata": {},
   "source": [
    "##### 6. Try to modify an element in a tuple and explain why it results in an error."
   ]
  },
  {
   "cell_type": "code",
   "execution_count": 1,
   "id": "9e7b7632",
   "metadata": {},
   "outputs": [
    {
     "ename": "TypeError",
     "evalue": "'tuple' object does not support item assignment",
     "output_type": "error",
     "traceback": [
      "\u001b[1;31m---------------------------------------------------------------------------\u001b[0m",
      "\u001b[1;31mTypeError\u001b[0m                                 Traceback (most recent call last)",
      "Cell \u001b[1;32mIn[1], line 2\u001b[0m\n\u001b[0;32m      1\u001b[0m tuple1\u001b[38;5;241m=\u001b[39m(\u001b[38;5;241m1\u001b[39m,\u001b[38;5;241m2\u001b[39m,\u001b[38;5;241m3\u001b[39m,\u001b[38;5;241m4\u001b[39m,\u001b[38;5;241m5\u001b[39m,\u001b[38;5;241m6\u001b[39m,\u001b[38;5;241m7\u001b[39m,\u001b[38;5;241m8\u001b[39m)\n\u001b[1;32m----> 2\u001b[0m tuple1[\u001b[38;5;241m2\u001b[39m]\u001b[38;5;241m=\u001b[39m\u001b[38;5;241m5\u001b[39m\n",
      "\u001b[1;31mTypeError\u001b[0m: 'tuple' object does not support item assignment"
     ]
    }
   ],
   "source": [
    "\n",
    "tuple1=(1,2,3,4,5,6,7,8)\n",
    "tuple1[2]=5"
   ]
  },
  {
   "cell_type": "markdown",
   "id": "9908e00d",
   "metadata": {},
   "source": [
    "##### 7. Create a tuple of mixed data types (e.g., numbers and strings). Use the count(method to count the number of occurrences of a specific element and the index() method to find its position."
   ]
  },
  {
   "cell_type": "code",
   "execution_count": 7,
   "id": "aedad322",
   "metadata": {},
   "outputs": [
    {
     "name": "stdout",
     "output_type": "stream",
     "text": [
      "(1, 'first', 2, 'two', 3, 'three')\n",
      "2\n",
      "1\n"
     ]
    }
   ],
   "source": [
    "t = (1,\"first\",2,\"two\",3,\"three\")\n",
    "print(t)\n",
    "index = t.index(2)\n",
    "count = t.count(\"two\")\n",
    "print(index)\n",
    "print(count)\n"
   ]
  },
  {
   "cell_type": "markdown",
   "id": "1848b9a4",
   "metadata": {},
   "source": [
    "##### 8. Define two tuples with numbers. Write a program that compares the two tuples andprints whether they are equal, not equal, or one is greater than the other.\n"
   ]
  },
  {
   "cell_type": "code",
   "execution_count": 20,
   "id": "d8354aad",
   "metadata": {},
   "outputs": [
    {
     "name": "stdout",
     "output_type": "stream",
     "text": [
      "(1, 2, 13, 4, 5, 1)\n",
      "(10, 11, 12, 13, 14, 16, 23)\n",
      "the tuple 1 is less than tuple 2\n"
     ]
    }
   ],
   "source": [
    "\n",
    "t1=(1,2,13,4,5,1)\n",
    "t2=(10,11,12,13,14,16,23)\n",
    "print(t1)\n",
    "print(t2)\n",
    "\n",
    "if t1==t2:\n",
    "    print(\"the tuple are equal\")\n",
    "elif t1<t2:\n",
    "    print(\"the tuple 1 is less than tuple 2\")\n",
    "else:\n",
    "    print(\"the tuple 1 is greater than tuple 2\")"
   ]
  },
  {
   "cell_type": "markdown",
   "id": "4523ffdd",
   "metadata": {},
   "source": [
    "##### 9. Create a function that accepts a variable number of arguments and returns them as atuple. Then, call the function with different numbers of arguments.\n"
   ]
  },
  {
   "cell_type": "code",
   "execution_count": 21,
   "id": "337ab183",
   "metadata": {},
   "outputs": [
    {
     "name": "stdout",
     "output_type": "stream",
     "text": [
      "('riya', 'priya', 'ram') first tuple\n",
      "(1, 2, 3, 4, 5) second tuple\n",
      "(1, 2, 4, 1.3, 3.5, 6.6) third tuple\n"
     ]
    }
   ],
   "source": [
    "\n",
    "def x(*args):\n",
    "    return tuple(args)\n",
    "\n",
    "tuple1=x(\"riya\",\"priya\",\"ram\")\n",
    "tuple2=x(1,2,3,4,5)\n",
    "tuple3=x(1,2,4,1.3,3.5,6.6)\n",
    "\n",
    "print(tuple1,\"first tuple\")\n",
    "print(tuple2,\"second tuple\")\n",
    "print(tuple3,\"third tuple\")"
   ]
  },
  {
   "cell_type": "markdown",
   "id": "6c848046",
   "metadata": {},
   "source": [
    "##### 10. Make a tuple of names. Write a program that uses a loop to iterate through thenames and print each one\n"
   ]
  },
  {
   "cell_type": "code",
   "execution_count": 22,
   "id": "e4ceea6c",
   "metadata": {},
   "outputs": [
    {
     "name": "stdout",
     "output_type": "stream",
     "text": [
      "riya\n",
      "priya\n",
      "sita\n",
      "ram\n",
      "gita\n"
     ]
    }
   ],
   "source": [
    "\n",
    "names=(\"riya\",\"priya\",\"sita\",\"ram\",\"gita\")\n",
    "for i in names:\n",
    "    print(i)"
   ]
  },
  {
   "cell_type": "markdown",
   "id": "10e7cff8",
   "metadata": {},
   "source": [
    "# Set"
   ]
  },
  {
   "cell_type": "markdown",
   "id": "82436234",
   "metadata": {},
   "source": [
    "##### 1. Create a set containing the names of your favorite animal."
   ]
  },
  {
   "cell_type": "code",
   "execution_count": 24,
   "id": "90668238",
   "metadata": {},
   "outputs": [
    {
     "name": "stdout",
     "output_type": "stream",
     "text": [
      "{'dear', 'cat', 'dog'}\n"
     ]
    }
   ],
   "source": [
    "\n",
    "set1={\"dog\",\"cat\",\"dear\"}\n",
    "print(set1)"
   ]
  },
  {
   "cell_type": "markdown",
   "id": "e80245da",
   "metadata": {},
   "source": [
    "##### 2. Create two sets of integers and perform set operations to find their union,intersection, and symmetric difference. Print the results."
   ]
  },
  {
   "cell_type": "code",
   "execution_count": 25,
   "id": "438cdec8",
   "metadata": {},
   "outputs": [
    {
     "name": "stdout",
     "output_type": "stream",
     "text": [
      "union:  {1, 2, 3, 4, 5, 7, 8, 9, 10}\n",
      "intersection:  {2, 3}\n",
      "sym_difference:  {1, 4, 5, 7, 8, 9, 10}\n",
      "difference:  {1, 4, 5}\n"
     ]
    }
   ],
   "source": []
  },
  {
   "cell_type": "markdown",
   "id": "76bd3e16",
   "metadata": {},
   "source": [
    "##### 3. Create a set of cities. Write a program that checks if a specific city is in the set andprints a message indicating its presence or absence.\n"
   ]
  },
  {
   "cell_type": "code",
   "execution_count": 3,
   "id": "2a61464b",
   "metadata": {},
   "outputs": [
    {
     "name": "stdout",
     "output_type": "stream",
     "text": [
      "yes\n"
     ]
    }
   ],
   "source": [
    "\n",
    "cities={\"nagpur\",\"pune\",\"mumbai\",\"hydrabad\"}\n",
    "if \"pune\" in cities:\n",
    "    print(\"yes\")\n",
    "else:\n",
    "    print(\"no\")"
   ]
  },
  {
   "cell_type": "markdown",
   "id": "82a66adf",
   "metadata": {},
   "source": [
    "##### 4. Create an empty set and add elements to it using the add() method. Print the set aftereach addition.\n"
   ]
  },
  {
   "cell_type": "code",
   "execution_count": 14,
   "id": "d719b132",
   "metadata": {},
   "outputs": [
    {
     "name": "stdout",
     "output_type": "stream",
     "text": [
      "{11}\n",
      "\n",
      "{11, 'E'}\n",
      "\n",
      "{11, 'python', 'E'}\n",
      "\n",
      "{11, 'python', 'E', 'Eleven'}\n"
     ]
    }
   ],
   "source": [
    "\n",
    "empty_set=set()\n",
    "empty_set.add(11)\n",
    "print(empty_set)\n",
    "print()\n",
    "empty_set.add(\"E\")\n",
    "print(empty_set)\n",
    "print()\n",
    "empty_set.add(\"python\")\n",
    "print(empty_set)\n",
    "print()\n",
    "empty_set.add(\"Eleven\")\n",
    "print(empty_set)"
   ]
  },
  {
   "cell_type": "markdown",
   "id": "6d4fb9d5",
   "metadata": {},
   "source": [
    "#### 5. Given a set of numbers, remove a specific number from the set. Print the modifiedset."
   ]
  },
  {
   "cell_type": "code",
   "execution_count": 11,
   "id": "776082cb",
   "metadata": {},
   "outputs": [
    {
     "name": "stdout",
     "output_type": "stream",
     "text": [
      "{1, 2, 34, 5, 6}\n"
     ]
    }
   ],
   "source": [
    "\n",
    "set1={1,2,34,5,6,66}\n",
    "set1.remove(66)\n",
    "print(set1)"
   ]
  },
  {
   "cell_type": "markdown",
   "id": "84888021",
   "metadata": {},
   "source": [
    "##### 6. Make two sets of words (strings) and find the words that are unique to each set (notpresent in both sets). Print the results.\n"
   ]
  },
  {
   "cell_type": "code",
   "execution_count": 10,
   "id": "770dc73b",
   "metadata": {},
   "outputs": [
    {
     "name": "stdout",
     "output_type": "stream",
     "text": [
      "{'banana'}\n",
      "{'mango'}\n"
     ]
    }
   ],
   "source": [
    "\n",
    "set1={\"apple\",\"banana\",\"orange\"}\n",
    "set2={\"apple\",\"mango\",\"orange\"}\n",
    "u=set1-set2\n",
    "u1=set2-set1\n",
    "print(u)\n",
    "print(u1)"
   ]
  },
  {
   "cell_type": "markdown",
   "id": "45d8c124",
   "metadata": {},
   "source": [
    "##### 7. Define two sets of numbers and determine if one set is a subset of the other. Print amessage indicating the relationship.\n"
   ]
  },
  {
   "cell_type": "code",
   "execution_count": 11,
   "id": "cd2aaf2b",
   "metadata": {},
   "outputs": [
    {
     "name": "stdout",
     "output_type": "stream",
     "text": [
      "set2 is not subset of set1\n"
     ]
    }
   ],
   "source": [
    "\n",
    "set1={1,2,3,4,5,6}\n",
    "set2={7,8,9,10}\n",
    "if set2.issubset(set1):\n",
    "    print(\"set2 is subset of set1\")\n",
    "else:\n",
    "    print(\"set2 is not subset of set1\")"
   ]
  },
  {
   "cell_type": "markdown",
   "id": "4befcce8",
   "metadata": {},
   "source": [
    "##### 8. Make two sets and use the update() method to add the elements from one set toanother. Print the updated set\n"
   ]
  },
  {
   "cell_type": "code",
   "execution_count": 1,
   "id": "4a6906cf",
   "metadata": {},
   "outputs": [
    {
     "name": "stdout",
     "output_type": "stream",
     "text": [
      "{1, 2, 3, 4, 5, 6, 7, 8, 9, 10}\n"
     ]
    }
   ],
   "source": [
    "\n",
    "a={1,2,3,4,5,5,6}\n",
    "b={7,8,9,10}\n",
    "a.update(b)\n",
    "print(a)"
   ]
  },
  {
   "cell_type": "markdown",
   "id": "5c5dfe2b",
   "metadata": {},
   "source": [
    "##### 9. Introduce a set of numbers and use a set comprehension to create a new set withonly the even numbers."
   ]
  },
  {
   "cell_type": "code",
   "execution_count": 3,
   "id": "cc4735d6",
   "metadata": {
    "scrolled": true
   },
   "outputs": [
    {
     "name": "stdout",
     "output_type": "stream",
     "text": [
      "{2, 4, 6, 8, 10}\n"
     ]
    }
   ],
   "source": [
    "\n",
    "a={1,2,3,4,5,6,7,8,9,10}\n",
    "x={i for i in a if i%2==0}\n",
    "print(x)"
   ]
  },
  {
   "cell_type": "markdown",
   "id": "ee027201",
   "metadata": {},
   "source": [
    "##### 10. Create a set of names. Write a program that uses a loop to iterate through the setand print each name.\n"
   ]
  },
  {
   "cell_type": "code",
   "execution_count": 4,
   "id": "b054267d",
   "metadata": {},
   "outputs": [
    {
     "name": "stdout",
     "output_type": "stream",
     "text": [
      "riya\n",
      "priya\n",
      "sita\n",
      "sameer\n"
     ]
    }
   ],
   "source": [
    "\n",
    "names={\"riya\",\"priya\",\"sameer\",\"sita\"}\n",
    "for i in names:\n",
    "    print(i)"
   ]
  },
  {
   "cell_type": "markdown",
   "id": "f1e31783",
   "metadata": {},
   "source": [
    "# Dictionary"
   ]
  },
  {
   "cell_type": "markdown",
   "id": "15a74623",
   "metadata": {},
   "source": [
    "##### 1. Create a dictionary that represents the information of a person, including name, age,and city.\n"
   ]
  },
  {
   "cell_type": "code",
   "execution_count": 1,
   "id": "a1442192",
   "metadata": {},
   "outputs": [
    {
     "name": "stdout",
     "output_type": "stream",
     "text": [
      "{'name': 'Neha', 'age': '19', 'city': 'Nagpur'}\n"
     ]
    }
   ],
   "source": [
    "\n",
    "info={\"name\":\"Neha\",\"age\":\"19\",\"city\":\"Nagpur\"}\n",
    "print(info)\n"
   ]
  },
  {
   "cell_type": "markdown",
   "id": "a2a3de1c",
   "metadata": {},
   "source": [
    "##### 2. Define a dictionary with information about a book (title, author, and year ofpublication). Write a program to access and print these values"
   ]
  },
  {
   "cell_type": "code",
   "execution_count": 3,
   "id": "d2a3b990",
   "metadata": {},
   "outputs": [
    {
     "name": "stdout",
     "output_type": "stream",
     "text": [
      "('title', 'the catvher in the rye')\n",
      "('author', 'J.D. salinger')\n",
      "('year', 1951)\n"
     ]
    }
   ],
   "source": [
    "\n",
    "book_info={\"title\":\"the catvher in the rye\",\"author\":\"J.D. salinger\",\"year\":1951}\n",
    "for i in book_info.items():\n",
    "    print(i)"
   ]
  },
  {
   "cell_type": "markdown",
   "id": "703222e3",
   "metadata": {},
   "source": [
    "##### 3. Make a dictionary with the names of cities as keys and their populations as values.Add a new city to the dictionary and update the population of an existing city.\n"
   ]
  },
  {
   "cell_type": "code",
   "execution_count": 6,
   "id": "e948ff07",
   "metadata": {},
   "outputs": [
    {
     "name": "stdout",
     "output_type": "stream",
     "text": [
      "{'pune': 3124458, 'Nagpur': 2405665, 'Nashik': 1486053, 'Wardha': 106444, 'Highnghat': 101805}\n",
      "\n",
      "{'pune': 3124868, 'Nagpur': 2405665, 'Nashik': 1486053, 'Wardha': 106444, 'Highnghat': 101805, 'Mumbai': 12442373}\n"
     ]
    }
   ],
   "source": [
    "\n",
    "cities_and_population={\"pune\":3124458,\"Nagpur\":2405665,\"Nashik\":1486053,\"Wardha\":106444,\"Highnghat\":101805}\n",
    "print(cities_and_population)\n",
    "cities_and_population[\"Mumbai\"]=12442373\n",
    "print()\n",
    "cities_and_population[\"pune\"]=3124868\n",
    "print(cities_and_population)\n"
   ]
  },
  {
   "cell_type": "markdown",
   "id": "b1a27c2c",
   "metadata": {},
   "source": [
    "##### 4. Define a dictionary with keys representing months and values as the number of daysin each month. Write a program to print all the keys (months) in the dictionary.\n"
   ]
  },
  {
   "cell_type": "code",
   "execution_count": 9,
   "id": "f552e288",
   "metadata": {},
   "outputs": [
    {
     "name": "stdout",
     "output_type": "stream",
     "text": [
      "Jan\n",
      "Feb\n",
      "Mar\n",
      "Apr\n",
      "May\n",
      "June\n",
      "July\n",
      "Aug\n",
      "Sep\n",
      "oct\n",
      "Nov\n",
      "Dec\n"
     ]
    }
   ],
   "source": [
    "\n",
    "month_days={\"Jan\":31,\"Feb\":28,\"Mar\":31,\"Apr\":30,\"May\":31,\"June\":30,\"July\":31,\"Aug\":31,\"Sep\":30,\"oct\":31,\"Nov\":30,\"Dec\":31}\n",
    "for i in month_days:\n",
    "    print(i)\n"
   ]
  },
  {
   "cell_type": "markdown",
   "id": "2b3ab8fa",
   "metadata": {},
   "source": [
    "##### 5. Create a list of names and generate a dictionary where the keys are the names, andthe values are the lengths of the names."
   ]
  },
  {
   "cell_type": "code",
   "execution_count": 10,
   "id": "8817bf1d",
   "metadata": {},
   "outputs": [
    {
     "name": "stdout",
     "output_type": "stream",
     "text": [
      "{'priya': 5, 'supriya': 7, 'nikita': 6, 'sakshi': 6}\n"
     ]
    }
   ],
   "source": [
    "\n",
    "names=[\"priya\",\"supriya\",\"nikita\",\"sakshi\"]\n",
    "dic={\"priya\":len(\"priya\"),\"supriya\":len(\"supriya\"),\"nikita\":len(\"nikita\"),\"sakshi\":len(\"sakshi\")}\n",
    "print(dic)"
   ]
  },
  {
   "cell_type": "markdown",
   "id": "887f1ad0",
   "metadata": {},
   "source": [
    "##### 6. Make a dictionary with information about items and their prices. Write a program thatiterates through the dictionary and prints each item and its price\n"
   ]
  },
  {
   "cell_type": "code",
   "execution_count": 13,
   "id": "c1825cd8",
   "metadata": {},
   "outputs": [
    {
     "name": "stdout",
     "output_type": "stream",
     "text": [
      "('Amul butter 500 g', 275)\n",
      "('Nestle dairy whitener 15 g', 9)\n",
      "('Amul kool badam flour milk 180 ml', 22)\n"
     ]
    }
   ],
   "source": [
    "\n",
    "item_price={\"Amul butter 500 g\":275,\"Nestle dairy whitener 15 g\":9,\"Amul kool badam flour milk 180 ml\":22}\n",
    "for i in item_price.items():\n",
    "    print(i)"
   ]
  },
  {
   "cell_type": "markdown",
   "id": "464d58dc",
   "metadata": {},
   "source": [
    "##### 7. Write a program that checks if a specific key is present in a dictionary and prints amessage indicating its presence or absence."
   ]
  },
  {
   "cell_type": "code",
   "execution_count": 6,
   "id": "887bab35",
   "metadata": {},
   "outputs": [
    {
     "name": "stdout",
     "output_type": "stream",
     "text": [
      "Enter a key to check: grade\n",
      "the key is present\n"
     ]
    }
   ],
   "source": [
    "\n",
    "dic={\"city\":\"mumbai\",\"name\":\"anand\",\"grade\":\"A\",\"name\":\"ashitosh\",\"city\":\"nagpur\",\"grade\":\"A\"}\n",
    "check=input(\"Enter a key to check: \")\n",
    "if check in dic:\n",
    "    print(\"the key is present\")\n",
    "else:\n",
    "    print(\"key is not present\")"
   ]
  },
  {
   "cell_type": "markdown",
   "id": "28b52aae",
   "metadata": {},
   "source": [
    "##### 8. Define a dictionary with words as keys and their lengths as values. Sort the dictionarybased on the values and print the sorted results."
   ]
  },
  {
   "cell_type": "code",
   "execution_count": 5,
   "id": "6da88865",
   "metadata": {},
   "outputs": [
    {
     "name": "stdout",
     "output_type": "stream",
     "text": [
      "{'dog': 3, 'parot': 5, 'peacock': 7, 'duck': 4, 'cat': 3}\n",
      "3\n",
      "3\n",
      "4\n",
      "5\n",
      "7\n"
     ]
    }
   ],
   "source": [
    "\n",
    "dic={\"dog\":len(\"dog\"),\"parot\":len(\"parot\"),\"peacock\":len(\"peacock\"),\"duck\":len(\"duck\"),\"cat\":len(\"cat\")}\n",
    "print(dic)\n",
    "for values in sorted(dic.values()):\n",
    "    print(values)\n"
   ]
  },
  {
   "cell_type": "markdown",
   "id": "73f94224",
   "metadata": {},
   "source": [
    "##### 9. Assume a dictionary representing the scores of students in a class. Write a programto print the student names, their scores, and calculate the class average.\n"
   ]
  },
  {
   "cell_type": "code",
   "execution_count": 22,
   "id": "27a37317",
   "metadata": {},
   "outputs": [
    {
     "name": "stdout",
     "output_type": "stream",
     "text": [
      "{'sameer': 70, 'sneha': 79, 'sanket': 80, 'adrsh': 71}\n",
      "\n",
      "('sameer', 70)\n",
      "('sneha', 79)\n",
      "('sanket', 80)\n",
      "('adrsh', 71)\n",
      "average: 75.0\n"
     ]
    }
   ],
   "source": [
    "\n",
    "stu_score={\"sameer\":70,\"sneha\":79,\"sanket\":80,\"adrsh\":71}\n",
    "print(stu_score)\n",
    "print()\n",
    "for i in stu_score.items():\n",
    "    print(i)\n",
    "average=sum(stu_score.values())/len(stu_score)\n",
    "print(\"average:\", average)\n"
   ]
  },
  {
   "cell_type": "markdown",
   "id": "57837768",
   "metadata": {},
   "source": [
    "##### 10. Create a nested dictionary to represent a library catalog with books and their details(title, author, and publication year). Write a program to access and print the informationfor a specific book\n"
   ]
  },
  {
   "cell_type": "code",
   "execution_count": 2,
   "id": "4ca307b0",
   "metadata": {},
   "outputs": [
    {
     "name": "stdout",
     "output_type": "stream",
     "text": [
      "Enter the book name: 1948\n",
      "{'George': 1949}\n"
     ]
    }
   ],
   "source": [
    "\n",
    "library={\"to kill a mockingbird\":{\"harper lee\":1960},\"1948\":{\"George\":1949},\"the great gatsby\":{\"f.scott fitzgerald\":1925}}\n",
    "book_name=input(\"Enter the book name: \")\n",
    "if book_name in library.keys():\n",
    "    print(library[book_name])\n",
    "else:\n",
    "    print(\"the book is not found in the catalog\")"
   ]
  },
  {
   "cell_type": "code",
   "execution_count": null,
   "id": "7dac8bcb",
   "metadata": {},
   "outputs": [],
   "source": []
  }
 ],
 "metadata": {
  "kernelspec": {
   "display_name": "Python 3 (ipykernel)",
   "language": "python",
   "name": "python3"
  },
  "language_info": {
   "codemirror_mode": {
    "name": "ipython",
    "version": 3
   },
   "file_extension": ".py",
   "mimetype": "text/x-python",
   "name": "python",
   "nbconvert_exporter": "python",
   "pygments_lexer": "ipython3",
   "version": "3.11.5"
  }
 },
 "nbformat": 4,
 "nbformat_minor": 5
}
